{
 "cells": [
  {
   "cell_type": "code",
   "execution_count": 9,
   "metadata": {},
   "outputs": [
    {
     "name": "stdout",
     "output_type": "stream",
     "text": [
      "  \\\\192.168.1.100\\TheKove\\0_MEDIA\\Music\\Adema\\Adema - 2001\\(01) Adema  Everyone.mp3\n",
      "0  \\\\192.168.1.100\\TheKove\\0_MEDIA\\Music\\Adema\\Ad...                                \n",
      "1  \\\\192.168.1.100\\TheKove\\0_MEDIA\\Music\\Adema\\Ad...                                \n",
      "2  \\\\192.168.1.100\\TheKove\\0_MEDIA\\Music\\Adema\\Ad...                                \n",
      "3  \\\\192.168.1.100\\TheKove\\0_MEDIA\\Music\\Adema\\Ad...                                \n",
      "4  \\\\192.168.1.100\\TheKove\\0_MEDIA\\Music\\Adema\\Ad...                                \n",
      "5  \\\\192.168.1.100\\TheKove\\0_MEDIA\\Music\\Adema\\Ad...                                \n",
      "6  \\\\192.168.1.100\\TheKove\\0_MEDIA\\Music\\Adema\\Ad...                                \n",
      "7  \\\\192.168.1.100\\TheKove\\0_MEDIA\\Music\\Adema\\Ad...                                \n",
      "8  \\\\192.168.1.100\\TheKove\\0_MEDIA\\Music\\Adema\\Ad...                                \n"
     ]
    }
   ],
   "source": [
    "import pandas as pd\n",
    "song_list_df = pd.read_csv(\"C:/Users/meddlin/Downloads/sample-songs.csv\", encoding = \"ISO-8859-1\")\n",
    "\n",
    "print(song_list_df)"
   ]
  },
  {
   "cell_type": "code",
   "execution_count": 40,
   "metadata": {},
   "outputs": [
    {
     "name": "stdout",
     "output_type": "stream",
     "text": [
      "0 \\\\192.168.1.100\\TheKove\\0_MEDIA\\Music\\Adema\\Adema - 2001\\(02) Adema - Blow It Away.mp3\n",
      "['', '', '192.168.1.100', 'TheKove', '0_MEDIA', 'Music', 'Adema', 'Adema - 2001', '(02) Adema - Blow It Away.mp3']\n",
      " \n",
      "songname: (02) Adema - Blow It Away.mp3\n",
      " \n",
      "file_extension: mp3\n",
      " \n",
      "(02)\n",
      "02\n",
      "1 \\\\192.168.1.100\\TheKove\\0_MEDIA\\Music\\Adema\\Adema - 2001\\(03) Adema - Giving In.mp3\n",
      "['', '', '192.168.1.100', 'TheKove', '0_MEDIA', 'Music', 'Adema', 'Adema - 2001', '(03) Adema - Giving In.mp3']\n",
      " \n",
      "songname: (03) Adema - Giving In.mp3\n",
      " \n",
      "file_extension: mp3\n",
      " \n",
      "(03)\n",
      "03\n",
      "2 \\\\192.168.1.100\\TheKove\\0_MEDIA\\Music\\Adema\\Adema - 2001\\(04) Adema - Freaking Out.mp3\n",
      "['', '', '192.168.1.100', 'TheKove', '0_MEDIA', 'Music', 'Adema', 'Adema - 2001', '(04) Adema - Freaking Out.mp3']\n",
      " \n",
      "songname: (04) Adema - Freaking Out.mp3\n",
      " \n",
      "file_extension: mp3\n",
      " \n",
      "(04)\n",
      "04\n",
      "3 \\\\192.168.1.100\\TheKove\\0_MEDIA\\Music\\Adema\\Adema - 2001\\(05) Adema - The Way You Like It.mp3\n",
      "['', '', '192.168.1.100', 'TheKove', '0_MEDIA', 'Music', 'Adema', 'Adema - 2001', '(05) Adema - The Way You Like It.mp3']\n",
      " \n",
      "songname: (05) Adema - The Way You Like It.mp3\n",
      " \n",
      "file_extension: mp3\n",
      " \n",
      "(05)\n",
      "05\n",
      "4 \\\\192.168.1.100\\TheKove\\0_MEDIA\\Music\\Adema\\Adema - 2001\\(06) Adema - Close Friends.mp3\n",
      "['', '', '192.168.1.100', 'TheKove', '0_MEDIA', 'Music', 'Adema', 'Adema - 2001', '(06) Adema - Close Friends.mp3']\n",
      " \n",
      "songname: (06) Adema - Close Friends.mp3\n",
      " \n",
      "file_extension: mp3\n",
      " \n",
      "(06)\n",
      "06\n",
      "5 \\\\192.168.1.100\\TheKove\\0_MEDIA\\Music\\Adema\\Adema - 2001\\(07) Adema - Do What You Want To Do.mp3\n",
      "['', '', '192.168.1.100', 'TheKove', '0_MEDIA', 'Music', 'Adema', 'Adema - 2001', '(07) Adema - Do What You Want To Do.mp3']\n",
      " \n",
      "songname: (07) Adema - Do What You Want To Do.mp3\n",
      " \n",
      "file_extension: mp3\n",
      " \n",
      "(07)\n",
      "07\n",
      "6 \\\\192.168.1.100\\TheKove\\0_MEDIA\\Music\\Adema\\Adema - 2001\\(08) Adema  Skin.mp3\n",
      "['', '', '192.168.1.100', 'TheKove', '0_MEDIA', 'Music', 'Adema', 'Adema - 2001', '(08) Adema \\x96 Skin.mp3']\n",
      " \n",
      "songname: (08) Adema  Skin.mp3\n",
      " \n",
      "file_extension: mp3\n",
      " \n",
      "(08)\n",
      "08\n",
      "7 \\\\192.168.1.100\\TheKove\\0_MEDIA\\Music\\Adema\\Adema - 2001\\(09) Adema - Pain Inside.mp3\n",
      "['', '', '192.168.1.100', 'TheKove', '0_MEDIA', 'Music', 'Adema', 'Adema - 2001', '(09) Adema - Pain Inside.mp3']\n",
      " \n",
      "songname: (09) Adema - Pain Inside.mp3\n",
      " \n",
      "file_extension: mp3\n",
      " \n",
      "(09)\n",
      "09\n",
      "8 \\\\192.168.1.100\\TheKove\\0_MEDIA\\Music\\Adema\\Adema - 2001\\(10) Adema  Speculum.mp3\n",
      "['', '', '192.168.1.100', 'TheKove', '0_MEDIA', 'Music', 'Adema', 'Adema - 2001', '(10) Adema \\x96 Speculum.mp3']\n",
      " \n",
      "songname: (10) Adema  Speculum.mp3\n",
      " \n",
      "file_extension: mp3\n",
      " \n",
      "(10)\n",
      "10\n"
     ]
    }
   ],
   "source": [
    "for row in song_list_df.itertuples():\n",
    "    print(row.Index, row._1)\n",
    "    \n",
    "    filename = row._1\n",
    "    filename_split_arr = filename.split('\\\\')\n",
    "    print(filename_split_arr)\n",
    "    print(\" \")\n",
    "    \n",
    "    songname = filename_split_arr[-1]\n",
    "    print(\"songname: \" + songname)\n",
    "    print(\" \")\n",
    "    \n",
    "    file_extension = songname.split('.')[-1]\n",
    "    print(\"file_extension: \" + file_extension)\n",
    "    print(\" \")\n",
    "    \n",
    "    song_number_slice = songname[:4]\n",
    "    print(song_number_slice)\n",
    "    if (\"(\" in song_number_slice or \")\" in song_number_slice):\n",
    "        print( song_number_slice.replace(\"(\", '').replace(\")\", '') )"
   ]
  },
  {
   "cell_type": "code",
   "execution_count": null,
   "metadata": {},
   "outputs": [],
   "source": []
  }
 ],
 "metadata": {
  "kernelspec": {
   "display_name": "Python 3",
   "language": "python",
   "name": "python3"
  },
  "language_info": {
   "codemirror_mode": {
    "name": "ipython",
    "version": 3
   },
   "file_extension": ".py",
   "mimetype": "text/x-python",
   "name": "python",
   "nbconvert_exporter": "python",
   "pygments_lexer": "ipython3",
   "version": "3.7.3"
  }
 },
 "nbformat": 4,
 "nbformat_minor": 2
}
